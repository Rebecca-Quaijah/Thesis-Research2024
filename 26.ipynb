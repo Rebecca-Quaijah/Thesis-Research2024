{
 "cells": [
  {
   "metadata": {},
   "cell_type": "markdown",
   "source": [
    "Step 1: Load and Explore the Datasets\n",
    "First, we’ll load both datasets and explore their structure.\n",
    "\n"
   ],
   "id": "86606a0a8534799f"
  },
  {
   "cell_type": "code",
   "id": "initial_id",
   "metadata": {
    "collapsed": true,
    "ExecuteTime": {
     "end_time": "2024-11-26T22:24:37.370825Z",
     "start_time": "2024-11-26T22:24:37.336553Z"
    }
   },
   "source": [
    "import pandas as pd\n",
    "\n",
    "# Load the dataset\n",
    "repeated_data = pd.read_csv(\"aids_dataset.csv\")\n",
    "survival_data= pd.read_csv(\"survival_dataset.csv\")\n",
    "\n",
    "# Display the first few rows\n",
    "print(\"First few rows of the dataset:\")\n",
    "print(repeated_data.head())\n",
    "\n",
    "print(\"First few rows of the dataset:\")\n",
    "print(survival_data.head())"
   ],
   "outputs": [
    {
     "name": "stdout",
     "output_type": "stream",
     "text": [
      "First few rows of the dataset:\n",
      "   Unnamed: 0  patient   Time  death        CD4  obstime drug gender  prevOI  \\\n",
      "0           1        1  16.97      0  10.677078        0  ddC   male    AIDS   \n",
      "1           2        1  16.97      0   8.426150        6  ddC   male    AIDS   \n",
      "2           3        1  16.97      0   9.433981       12  ddC   male    AIDS   \n",
      "3           4        2  19.00      0   6.324555        0  ddI   male  noAIDS   \n",
      "4           5        2  19.00      0   8.124038        6  ddI   male  noAIDS   \n",
      "\n",
      "           AZT  start   stop  event  \n",
      "0  intolerance      0   6.00      0  \n",
      "1  intolerance      6  12.00      0  \n",
      "2  intolerance     12  16.97      0  \n",
      "3  intolerance      0   6.00      0  \n",
      "4  intolerance      6  12.00      0  \n",
      "First few rows of the dataset:\n",
      "   Unnamed: 0  patient   Time  death        CD4  obstime drug  gender  prevOI  \\\n",
      "0           1        1  16.97      0  10.677078        0  ddC    male    AIDS   \n",
      "1           2        2  19.00      0   6.324555        0  ddI    male  noAIDS   \n",
      "2           3        3  18.53      1   3.464102        0  ddI  female    AIDS   \n",
      "3           4        4  12.70      0   3.872983        0  ddC    male    AIDS   \n",
      "4           5        5  15.13      0   7.280110        0  ddI    male    AIDS   \n",
      "\n",
      "           AZT  start  stop  event  \n",
      "0  intolerance      0   6.0      0  \n",
      "1  intolerance      0   6.0      0  \n",
      "2  intolerance      0   2.0      0  \n",
      "3      failure      0   2.0      0  \n",
      "4      failure      0   2.0      0  \n"
     ]
    }
   ],
   "execution_count": 50
  },
  {
   "metadata": {
    "ExecuteTime": {
     "end_time": "2024-11-26T22:24:49.407873Z",
     "start_time": "2024-11-26T22:24:49.393916Z"
    }
   },
   "cell_type": "code",
   "source": [
    "# Check for missing values\n",
    "print(\"\\nMissing Values in Repeated Measures Dataset:\")\n",
    "print(repeated_data.isnull().sum())\n",
    "\n",
    "print(\"\\nMissing Values in Time-to-Event Dataset:\")\n",
    "print(survival_data.isnull().sum())\n"
   ],
   "id": "4a15f4c5b60f57a9",
   "outputs": [
    {
     "name": "stdout",
     "output_type": "stream",
     "text": [
      "\n",
      "Missing Values in Repeated Measures Dataset:\n",
      "Unnamed: 0    0\n",
      "patient       0\n",
      "Time          0\n",
      "death         0\n",
      "CD4           0\n",
      "obstime       0\n",
      "drug          0\n",
      "gender        0\n",
      "prevOI        0\n",
      "AZT           0\n",
      "start         0\n",
      "stop          0\n",
      "event         0\n",
      "dtype: int64\n",
      "\n",
      "Missing Values in Time-to-Event Dataset:\n",
      "Unnamed: 0    0\n",
      "patient       0\n",
      "Time          0\n",
      "death         0\n",
      "CD4           0\n",
      "obstime       0\n",
      "drug          0\n",
      "gender        0\n",
      "prevOI        0\n",
      "AZT           0\n",
      "start         0\n",
      "stop          0\n",
      "event         0\n",
      "dtype: int64\n"
     ]
    }
   ],
   "execution_count": 51
  },
  {
   "metadata": {},
   "cell_type": "markdown",
   "source": [
    "Step 2: Handle Irregularities in Repeated Measures\n",
    "1. Sort and Group Data\n",
    "Group the repeated measures dataset by patient and sort by observation time (obstime).\n"
   ],
   "id": "cc7bcf24a8b058f9"
  },
  {
   "metadata": {
    "ExecuteTime": {
     "end_time": "2024-11-26T22:24:58.690860Z",
     "start_time": "2024-11-26T22:24:58.675917Z"
    }
   },
   "cell_type": "code",
   "source": [
    "# Sort by patient and obstime\n",
    "repeated_data = repeated_data.sort_values(by=[\"patient\", \"obstime\"])\n",
    "\n",
    "# Check for irregularities\n",
    "print(\"\\nObservation Counts Per Patient:\")\n",
    "print(repeated_data[\"patient\"].value_counts())\n",
    "\n"
   ],
   "id": "da89fce1b23ea877",
   "outputs": [
    {
     "name": "stdout",
     "output_type": "stream",
     "text": [
      "\n",
      "Observation Counts Per Patient:\n",
      "patient\n",
      "139    5\n",
      "137    5\n",
      "209    5\n",
      "91     5\n",
      "92     5\n",
      "      ..\n",
      "181    1\n",
      "164    1\n",
      "156    1\n",
      "403    1\n",
      "108    1\n",
      "Name: count, Length: 467, dtype: int64\n"
     ]
    }
   ],
   "execution_count": 52
  },
  {
   "metadata": {},
   "cell_type": "markdown",
   "source": [
    "2. Compute Time Differences (Δt)\n",
    "Calculate the time intervals between observations (Δt) for each patient."
   ],
   "id": "ee7546e84320604d"
  },
  {
   "metadata": {
    "ExecuteTime": {
     "end_time": "2024-11-26T22:25:09.878181Z",
     "start_time": "2024-11-26T22:25:09.856529Z"
    }
   },
   "cell_type": "code",
   "source": [
    "# Compute time differences for each patient\n",
    "repeated_data[\"time_diff\"] = repeated_data.groupby(\"patient\")[\"obstime\"].diff().fillna(0)\n",
    "\n",
    "# Preview the data\n",
    "print(\"\\nRepeated Measures with Time Differences (Δt):\")\n",
    "print(repeated_data.head())\n",
    "\n",
    "    "
   ],
   "id": "ca0036721e57f1cb",
   "outputs": [
    {
     "name": "stdout",
     "output_type": "stream",
     "text": [
      "\n",
      "Repeated Measures with Time Differences (Δt):\n",
      "   Unnamed: 0  patient   Time  death        CD4  obstime drug gender  prevOI  \\\n",
      "0           1        1  16.97      0  10.677078        0  ddC   male    AIDS   \n",
      "1           2        1  16.97      0   8.426150        6  ddC   male    AIDS   \n",
      "2           3        1  16.97      0   9.433981       12  ddC   male    AIDS   \n",
      "3           4        2  19.00      0   6.324555        0  ddI   male  noAIDS   \n",
      "4           5        2  19.00      0   8.124038        6  ddI   male  noAIDS   \n",
      "\n",
      "           AZT  start   stop  event  time_diff  \n",
      "0  intolerance      0   6.00      0        0.0  \n",
      "1  intolerance      6  12.00      0        6.0  \n",
      "2  intolerance     12  16.97      0        6.0  \n",
      "3  intolerance      0   6.00      0        0.0  \n",
      "4  intolerance      6  12.00      0        6.0  \n"
     ]
    }
   ],
   "execution_count": 53
  },
  {
   "metadata": {},
   "cell_type": "markdown",
   "source": [
    "Step 3: Normalize Repeated Measures\n",
    "Normalize the time-varying features (CD4, obstime, time_diff) using standardization."
   ],
   "id": "2e0fa23df5fc772a"
  },
  {
   "metadata": {
    "ExecuteTime": {
     "end_time": "2024-11-26T21:35:49.246061Z",
     "start_time": "2024-11-26T21:35:48.696847Z"
    }
   },
   "cell_type": "code",
   "source": [
    "from sklearn.preprocessing import StandardScaler\n",
    "\n",
    "# Select features to normalize\n",
    "features_to_normalize = [\"CD4\", \"obstime\", \"time_diff\"]\n",
    "scaler = StandardScaler()\n",
    "\n",
    "# Apply normalization\n",
    "repeated_data[features_to_normalize] = scaler.fit_transform(repeated_data[features_to_normalize])\n",
    "\n",
    "print(\"\\nNormalized Repeated Measures:\")\n",
    "print(repeated_data.head())\n"
   ],
   "id": "2a1389c9da58780f",
   "outputs": [
    {
     "name": "stdout",
     "output_type": "stream",
     "text": [
      "\n",
      "Normalized Repeated Measures:\n",
      "   Unnamed: 0  patient   Time  death       CD4   obstime drug gender  prevOI  \\\n",
      "0           1        1  16.97      0  0.737225 -0.893455  ddC   male    AIDS   \n",
      "1           2        1  16.97      0  0.283101  0.378813  ddC   male    AIDS   \n",
      "2           3        1  16.97      0  0.486431  1.651081  ddC   male    AIDS   \n",
      "3           4        2  19.00      0 -0.140895 -0.893455  ddI   male  noAIDS   \n",
      "4           5        2  19.00      0  0.222150  0.378813  ddI   male  noAIDS   \n",
      "\n",
      "           AZT  start   stop  event  time_diff  \n",
      "0  intolerance      0   6.00      0  -1.065791  \n",
      "1  intolerance      6  12.00      0   1.341663  \n",
      "2  intolerance     12  16.97      0   1.341663  \n",
      "3  intolerance      0   6.00      0  -1.065791  \n",
      "4  intolerance      6  12.00      0   1.341663  \n"
     ]
    }
   ],
   "execution_count": 10
  },
  {
   "metadata": {},
   "cell_type": "markdown",
   "source": "",
   "id": "57b8b65fec9ea7bc"
  },
  {
   "metadata": {},
   "cell_type": "markdown",
   "source": [
    "Step 4: Align Static Features from Survival Data\n",
    "Merge the static features (gender, drug) from the survival dataset with the repeated measures dataset.\n",
    "\n",
    "Prepare Static Features:\n",
    "Extract and preprocess gender and drug (e.g., one-hot encoding)."
   ],
   "id": "669c4127d8b1d13d"
  },
  {
   "metadata": {
    "ExecuteTime": {
     "end_time": "2024-11-26T22:25:46.705862Z",
     "start_time": "2024-11-26T22:25:46.689002Z"
    }
   },
   "cell_type": "code",
   "source": [
    "# One-hot encode static features\n",
    "static_features = pd.get_dummies(survival_data[[\"gender\", \"drug\"]], drop_first=True)\n",
    "\n",
    "# Add patient IDs to static features for merging\n",
    "static_features[\"patient\"] = survival_data[\"patient\"]\n"
   ],
   "id": "ce2ddf6bbc824098",
   "outputs": [],
   "execution_count": 54
  },
  {
   "metadata": {},
   "cell_type": "markdown",
   "source": [
    "Merge Static Features with Repeated Measures:\n",
    "Align static features with the repeated measures dataset.\n"
   ],
   "id": "a594236e27c3a482"
  },
  {
   "metadata": {
    "ExecuteTime": {
     "end_time": "2024-11-26T22:25:49.026250Z",
     "start_time": "2024-11-26T22:25:49.015677Z"
    }
   },
   "cell_type": "code",
   "source": [
    "# Merge static features into repeated measures dataset\n",
    "repeated_data = repeated_data.merge(static_features, on=\"patient\", how=\"left\")\n",
    "\n",
    "print(\"\\nRepeated Measures with Static Features:\")\n",
    "print(repeated_data.head())\n"
   ],
   "id": "f5c06f53fc34633f",
   "outputs": [
    {
     "name": "stdout",
     "output_type": "stream",
     "text": [
      "\n",
      "Repeated Measures with Static Features:\n",
      "   Unnamed: 0  patient   Time  death        CD4  obstime drug gender  prevOI  \\\n",
      "0           1        1  16.97      0  10.677078        0  ddC   male    AIDS   \n",
      "1           2        1  16.97      0   8.426150        6  ddC   male    AIDS   \n",
      "2           3        1  16.97      0   9.433981       12  ddC   male    AIDS   \n",
      "3           4        2  19.00      0   6.324555        0  ddI   male  noAIDS   \n",
      "4           5        2  19.00      0   8.124038        6  ddI   male  noAIDS   \n",
      "\n",
      "           AZT  start   stop  event  time_diff  gender_male  drug_ddI  \n",
      "0  intolerance      0   6.00      0        0.0         True     False  \n",
      "1  intolerance      6  12.00      0        6.0         True     False  \n",
      "2  intolerance     12  16.97      0        6.0         True     False  \n",
      "3  intolerance      0   6.00      0        0.0         True      True  \n",
      "4  intolerance      6  12.00      0        6.0         True      True  \n"
     ]
    }
   ],
   "execution_count": 55
  },
  {
   "metadata": {},
   "cell_type": "markdown",
   "source": [
    "Step 5: Prepare Survival Labels\n",
    "Extract survival labels (Time, death) for each patient"
   ],
   "id": "d366790889e1a71c"
  },
  {
   "metadata": {
    "ExecuteTime": {
     "end_time": "2024-11-26T22:25:55.745498Z",
     "start_time": "2024-11-26T22:25:55.733088Z"
    }
   },
   "cell_type": "code",
   "source": [
    "# Extract survival labels\n",
    "survival_labels = survival_data[[\"patient\", \"Time\", \"death\"]]\n",
    "\n",
    "# Merge survival labels with repeated measures\n",
    "repeated_data = repeated_data.merge(survival_labels, on=\"patient\", how=\"left\")\n",
    "\n",
    "print(\"\\nRepeated Measures with Survival Labels:\")\n",
    "print(repeated_data.head())\n"
   ],
   "id": "2df590293a4678a8",
   "outputs": [
    {
     "name": "stdout",
     "output_type": "stream",
     "text": [
      "\n",
      "Repeated Measures with Survival Labels:\n",
      "   Unnamed: 0  patient  Time_x  death_x        CD4  obstime drug gender  \\\n",
      "0           1        1   16.97        0  10.677078        0  ddC   male   \n",
      "1           2        1   16.97        0   8.426150        6  ddC   male   \n",
      "2           3        1   16.97        0   9.433981       12  ddC   male   \n",
      "3           4        2   19.00        0   6.324555        0  ddI   male   \n",
      "4           5        2   19.00        0   8.124038        6  ddI   male   \n",
      "\n",
      "   prevOI          AZT  start   stop  event  time_diff  gender_male  drug_ddI  \\\n",
      "0    AIDS  intolerance      0   6.00      0        0.0         True     False   \n",
      "1    AIDS  intolerance      6  12.00      0        6.0         True     False   \n",
      "2    AIDS  intolerance     12  16.97      0        6.0         True     False   \n",
      "3  noAIDS  intolerance      0   6.00      0        0.0         True      True   \n",
      "4  noAIDS  intolerance      6  12.00      0        6.0         True      True   \n",
      "\n",
      "   Time_y  death_y  \n",
      "0   16.97        0  \n",
      "1   16.97        0  \n",
      "2   16.97        0  \n",
      "3   19.00        0  \n",
      "4   19.00        0  \n"
     ]
    }
   ],
   "execution_count": 56
  },
  {
   "metadata": {},
   "cell_type": "markdown",
   "source": [
    "Step 6: Create Sequential and Static Inputs\n",
    "Group the data by patient to form the sequential inputs and extract the static features and labels.\n",
    "\n",
    "Group Sequential Features:\n",
    "Form sequences of CD4, obstime, and time_diff.\n"
   ],
   "id": "978fbdbf1c9f47a"
  },
  {
   "metadata": {
    "ExecuteTime": {
     "end_time": "2024-11-26T22:26:07.021026Z",
     "start_time": "2024-11-26T22:26:07.004276Z"
    }
   },
   "cell_type": "code",
   "source": [
    "# Group sequential features by patient\n",
    "sequential_features = repeated_data.groupby(\"patient\")[[\"CD4\", \"obstime\", \"time_diff\"]].apply(lambda x: x.values).tolist()\n"
   ],
   "id": "8e511be18323ec50",
   "outputs": [],
   "execution_count": 57
  },
  {
   "metadata": {},
   "cell_type": "markdown",
   "source": [
    "Extract Static Features:\n",
    "Extract unique static features for each patient\n"
   ],
   "id": "9e80d93ea2babb4c"
  },
  {
   "metadata": {
    "ExecuteTime": {
     "end_time": "2024-11-26T21:40:01.158460Z",
     "start_time": "2024-11-26T21:40:01.147333Z"
    }
   },
   "cell_type": "code",
   "source": [
    "# Extract static features for each patient\n",
    "static_features = survival_data[[\"gender\", \"drug\"]]\n",
    "static_features = pd.get_dummies(static_features, drop_first=True).values\n"
   ],
   "id": "d9615b52e72a014e",
   "outputs": [],
   "execution_count": 15
  },
  {
   "metadata": {},
   "cell_type": "markdown",
   "source": [
    "Extract Labels:\n",
    "Use Time and death as the labels."
   ],
   "id": "267cace2e0676d36"
  },
  {
   "metadata": {
    "ExecuteTime": {
     "end_time": "2024-11-26T21:40:42.964917Z",
     "start_time": "2024-11-26T21:40:42.958200Z"
    }
   },
   "cell_type": "code",
   "source": [
    "# Extract survival labels\n",
    "labels = survival_data[[\"Time\", \"death\"]].values\n"
   ],
   "id": "fb21a858f2e79dcf",
   "outputs": [],
   "execution_count": 16
  },
  {
   "metadata": {},
   "cell_type": "markdown",
   "source": [
    "Step 7: Handle Padding for Sequential Inputs\n",
    "Since patients have varying numbers of observations, pad sequences to align them."
   ],
   "id": "aa8be5897e50f409"
  },
  {
   "metadata": {
    "ExecuteTime": {
     "end_time": "2024-11-26T21:41:31.499533Z",
     "start_time": "2024-11-26T21:41:28.628971Z"
    }
   },
   "cell_type": "code",
   "source": [
    "from tensorflow.keras.preprocessing.sequence import pad_sequences\n",
    "\n",
    "# Pad sequential features\n",
    "padded_sequential_features = pad_sequences(sequential_features, padding=\"post\", dtype=\"float32\")\n",
    "\n",
    "print(\"\\nPadded Sequential Features:\")\n",
    "print(padded_sequential_features.shape)  # Should be (num_patients, max_seq_len, num_features)\n"
   ],
   "id": "a6bc6edf610a6010",
   "outputs": [
    {
     "name": "stdout",
     "output_type": "stream",
     "text": [
      "\n",
      "Padded Sequential Features:\n",
      "(467, 5, 3)\n"
     ]
    }
   ],
   "execution_count": 17
  },
  {
   "metadata": {},
   "cell_type": "markdown",
   "source": [
    "Final Preprocessed Data:\n",
    "Sequential Inputs (Time-varying):\n",
    "\n",
    "Shape: (num_patients, max_seq_len, num_features)\n",
    "Includes CD4, obstime, and time_diff.\n",
    "Static Inputs (Baseline Features):\n",
    "\n",
    "Shape: (num_patients, num_static_features)\n",
    "Includes one-hot encoded gender and drug.\n",
    "Labels (Survival Data):\n",
    "\n",
    "Shape: (num_patients, 2)\n",
    "Includes Time and death"
   ],
   "id": "13e6a55b40d27783"
  },
  {
   "metadata": {},
   "cell_type": "markdown",
   "source": "",
   "id": "106fd1b60c5cad2c"
  },
  {
   "metadata": {},
   "cell_type": "markdown",
   "source": "",
   "id": "148179973a718b56"
  },
  {
   "metadata": {},
   "cell_type": "markdown",
   "source": "",
   "id": "2b751169b6036a15"
  },
  {
   "metadata": {},
   "cell_type": "markdown",
   "source": "RNN Model Implementation \n",
   "id": "64c506d92dc7bef3"
  },
  {
   "metadata": {
    "ExecuteTime": {
     "end_time": "2024-11-26T22:26:29.050893Z",
     "start_time": "2024-11-26T22:26:29.045943Z"
    }
   },
   "cell_type": "code",
   "source": [
    "import numpy as np\n",
    "from tensorflow.keras.layers import Input, LSTM, Dense, Concatenate\n",
    "from tensorflow.keras.models import Model\n",
    "from tensorflow.keras.optimizers import Adam\n",
    "from tensorflow.keras.preprocessing.sequence import pad_sequences\n",
    "from tensorflow.keras.layers import Dropout\n",
    "\n"
   ],
   "id": "d26db50dcb3e5c3e",
   "outputs": [],
   "execution_count": 58
  },
  {
   "metadata": {},
   "cell_type": "markdown",
   "source": [
    "Step 2: Define the Model Architecture\n",
    "We will create an RNN model with two inputs:\n",
    "\n",
    "Sequential Input: For time-varying features (CD4, obstime, time_diff).\n",
    "Static Input: For baseline features (gender, drug).\n",
    "The output will be a survival probability (a value between 0 and 1)"
   ],
   "id": "d04dbb1ba7162a99"
  },
  {
   "metadata": {
    "ExecuteTime": {
     "end_time": "2024-11-26T22:29:29.073611Z",
     "start_time": "2024-11-26T22:29:29.009151Z"
    }
   },
   "cell_type": "code",
   "source": [
    "# Define input for sequential data\n",
    "seq_input = Input(shape=(None, 3), name=\"SeInput\")  # 3 time-varying features\n",
    "lstm_out = LSTM(64, return_sequences=False, name=\"LSTM\")(seq_input)\n",
    "lstm_out = Dropout(0.3)(lstm_out)\n",
    "\n",
    "# Define input for static data\n",
    "static_input = Input(shape=(static_features.shape[1],), name=\"StatInput\")  # Static features\n",
    "\n",
    "# Combine sequential and static features\n",
    "combined = Concatenate(name=\"Concatenate\")([lstm_out, static_input])\n",
    "\n",
    "# Dense layers for survival prediction\n",
    "dense_1 = Dense(32, activation=\"relu\", name=\"Dense1\")(combined)\n",
    "dense_1 = Dropout(0.3)(dense_1)  \n",
    "survival_output = Dense(1, activation=\"sigmoid\", name=\"SurvivalOutput\")(dense_2)\n",
    "\n",
    "# Define the model\n",
    "model = Model(inputs=[seq_input, static_input], outputs=survival_output, name=\"SurvivalRNN\")\n",
    "\n",
    "# Compile the model\n",
    "model.compile(optimizer=Adam(learning_rate=0.001), loss=\"binary_crossentropy\", metrics=[\"accuracy\"])\n",
    "model.summary()\n"
   ],
   "id": "ee2e3fd633e62c42",
   "outputs": [
    {
     "data": {
      "text/plain": [
       "\u001B[1mModel: \"SurvivalRNN\"\u001B[0m\n"
      ],
      "text/html": [
       "<pre style=\"white-space:pre;overflow-x:auto;line-height:normal;font-family:Menlo,'DejaVu Sans Mono',consolas,'Courier New',monospace\"><span style=\"font-weight: bold\">Model: \"SurvivalRNN\"</span>\n",
       "</pre>\n"
      ]
     },
     "metadata": {},
     "output_type": "display_data"
    },
    {
     "data": {
      "text/plain": [
       "┏━━━━━━━━━━━━━━━━━━━━━┳━━━━━━━━━━━━━━━━━━━┳━━━━━━━━━━━━┳━━━━━━━━━━━━━━━━━━━┓\n",
       "┃\u001B[1m \u001B[0m\u001B[1mLayer (type)       \u001B[0m\u001B[1m \u001B[0m┃\u001B[1m \u001B[0m\u001B[1mOutput Shape     \u001B[0m\u001B[1m \u001B[0m┃\u001B[1m \u001B[0m\u001B[1m   Param #\u001B[0m\u001B[1m \u001B[0m┃\u001B[1m \u001B[0m\u001B[1mConnected to     \u001B[0m\u001B[1m \u001B[0m┃\n",
       "┡━━━━━━━━━━━━━━━━━━━━━╇━━━━━━━━━━━━━━━━━━━╇━━━━━━━━━━━━╇━━━━━━━━━━━━━━━━━━━┩\n",
       "│ SequentialInput     │ (\u001B[38;5;45mNone\u001B[0m, \u001B[38;5;45mNone\u001B[0m, \u001B[38;5;34m3\u001B[0m)   │          \u001B[38;5;34m0\u001B[0m │ -                 │\n",
       "│ (\u001B[38;5;33mInputLayer\u001B[0m)        │                   │            │                   │\n",
       "├─────────────────────┼───────────────────┼────────────┼───────────────────┤\n",
       "│ LSTM (\u001B[38;5;33mLSTM\u001B[0m)         │ (\u001B[38;5;45mNone\u001B[0m, \u001B[38;5;34m64\u001B[0m)        │     \u001B[38;5;34m17,408\u001B[0m │ SequentialInput[\u001B[38;5;34m…\u001B[0m │\n",
       "├─────────────────────┼───────────────────┼────────────┼───────────────────┤\n",
       "│ StaticInput         │ (\u001B[38;5;45mNone\u001B[0m, \u001B[38;5;34m2\u001B[0m)         │          \u001B[38;5;34m0\u001B[0m │ -                 │\n",
       "│ (\u001B[38;5;33mInputLayer\u001B[0m)        │                   │            │                   │\n",
       "├─────────────────────┼───────────────────┼────────────┼───────────────────┤\n",
       "│ Concatenate         │ (\u001B[38;5;45mNone\u001B[0m, \u001B[38;5;34m66\u001B[0m)        │          \u001B[38;5;34m0\u001B[0m │ LSTM[\u001B[38;5;34m0\u001B[0m][\u001B[38;5;34m0\u001B[0m],       │\n",
       "│ (\u001B[38;5;33mConcatenate\u001B[0m)       │                   │            │ StaticInput[\u001B[38;5;34m0\u001B[0m][\u001B[38;5;34m0\u001B[0m] │\n",
       "├─────────────────────┼───────────────────┼────────────┼───────────────────┤\n",
       "│ Dense1 (\u001B[38;5;33mDense\u001B[0m)      │ (\u001B[38;5;45mNone\u001B[0m, \u001B[38;5;34m32\u001B[0m)        │      \u001B[38;5;34m2,144\u001B[0m │ Concatenate[\u001B[38;5;34m0\u001B[0m][\u001B[38;5;34m0\u001B[0m] │\n",
       "├─────────────────────┼───────────────────┼────────────┼───────────────────┤\n",
       "│ Dense2 (\u001B[38;5;33mDense\u001B[0m)      │ (\u001B[38;5;45mNone\u001B[0m, \u001B[38;5;34m16\u001B[0m)        │        \u001B[38;5;34m528\u001B[0m │ Dense1[\u001B[38;5;34m0\u001B[0m][\u001B[38;5;34m0\u001B[0m]      │\n",
       "├─────────────────────┼───────────────────┼────────────┼───────────────────┤\n",
       "│ SeInput             │ (\u001B[38;5;45mNone\u001B[0m, \u001B[38;5;45mNone\u001B[0m, \u001B[38;5;34m3\u001B[0m)   │          \u001B[38;5;34m0\u001B[0m │ -                 │\n",
       "│ (\u001B[38;5;33mInputLayer\u001B[0m)        │                   │            │                   │\n",
       "├─────────────────────┼───────────────────┼────────────┼───────────────────┤\n",
       "│ StatInput           │ (\u001B[38;5;45mNone\u001B[0m, \u001B[38;5;34m3\u001B[0m)         │          \u001B[38;5;34m0\u001B[0m │ -                 │\n",
       "│ (\u001B[38;5;33mInputLayer\u001B[0m)        │                   │            │                   │\n",
       "├─────────────────────┼───────────────────┼────────────┼───────────────────┤\n",
       "│ SurvivalOutput      │ (\u001B[38;5;45mNone\u001B[0m, \u001B[38;5;34m1\u001B[0m)         │         \u001B[38;5;34m17\u001B[0m │ Dense2[\u001B[38;5;34m0\u001B[0m][\u001B[38;5;34m0\u001B[0m]      │\n",
       "│ (\u001B[38;5;33mDense\u001B[0m)             │                   │            │                   │\n",
       "└─────────────────────┴───────────────────┴────────────┴───────────────────┘\n"
      ],
      "text/html": [
       "<pre style=\"white-space:pre;overflow-x:auto;line-height:normal;font-family:Menlo,'DejaVu Sans Mono',consolas,'Courier New',monospace\">┏━━━━━━━━━━━━━━━━━━━━━┳━━━━━━━━━━━━━━━━━━━┳━━━━━━━━━━━━┳━━━━━━━━━━━━━━━━━━━┓\n",
       "┃<span style=\"font-weight: bold\"> Layer (type)        </span>┃<span style=\"font-weight: bold\"> Output Shape      </span>┃<span style=\"font-weight: bold\">    Param # </span>┃<span style=\"font-weight: bold\"> Connected to      </span>┃\n",
       "┡━━━━━━━━━━━━━━━━━━━━━╇━━━━━━━━━━━━━━━━━━━╇━━━━━━━━━━━━╇━━━━━━━━━━━━━━━━━━━┩\n",
       "│ SequentialInput     │ (<span style=\"color: #00d7ff; text-decoration-color: #00d7ff\">None</span>, <span style=\"color: #00d7ff; text-decoration-color: #00d7ff\">None</span>, <span style=\"color: #00af00; text-decoration-color: #00af00\">3</span>)   │          <span style=\"color: #00af00; text-decoration-color: #00af00\">0</span> │ -                 │\n",
       "│ (<span style=\"color: #0087ff; text-decoration-color: #0087ff\">InputLayer</span>)        │                   │            │                   │\n",
       "├─────────────────────┼───────────────────┼────────────┼───────────────────┤\n",
       "│ LSTM (<span style=\"color: #0087ff; text-decoration-color: #0087ff\">LSTM</span>)         │ (<span style=\"color: #00d7ff; text-decoration-color: #00d7ff\">None</span>, <span style=\"color: #00af00; text-decoration-color: #00af00\">64</span>)        │     <span style=\"color: #00af00; text-decoration-color: #00af00\">17,408</span> │ SequentialInput[<span style=\"color: #00af00; text-decoration-color: #00af00\">…</span> │\n",
       "├─────────────────────┼───────────────────┼────────────┼───────────────────┤\n",
       "│ StaticInput         │ (<span style=\"color: #00d7ff; text-decoration-color: #00d7ff\">None</span>, <span style=\"color: #00af00; text-decoration-color: #00af00\">2</span>)         │          <span style=\"color: #00af00; text-decoration-color: #00af00\">0</span> │ -                 │\n",
       "│ (<span style=\"color: #0087ff; text-decoration-color: #0087ff\">InputLayer</span>)        │                   │            │                   │\n",
       "├─────────────────────┼───────────────────┼────────────┼───────────────────┤\n",
       "│ Concatenate         │ (<span style=\"color: #00d7ff; text-decoration-color: #00d7ff\">None</span>, <span style=\"color: #00af00; text-decoration-color: #00af00\">66</span>)        │          <span style=\"color: #00af00; text-decoration-color: #00af00\">0</span> │ LSTM[<span style=\"color: #00af00; text-decoration-color: #00af00\">0</span>][<span style=\"color: #00af00; text-decoration-color: #00af00\">0</span>],       │\n",
       "│ (<span style=\"color: #0087ff; text-decoration-color: #0087ff\">Concatenate</span>)       │                   │            │ StaticInput[<span style=\"color: #00af00; text-decoration-color: #00af00\">0</span>][<span style=\"color: #00af00; text-decoration-color: #00af00\">0</span>] │\n",
       "├─────────────────────┼───────────────────┼────────────┼───────────────────┤\n",
       "│ Dense1 (<span style=\"color: #0087ff; text-decoration-color: #0087ff\">Dense</span>)      │ (<span style=\"color: #00d7ff; text-decoration-color: #00d7ff\">None</span>, <span style=\"color: #00af00; text-decoration-color: #00af00\">32</span>)        │      <span style=\"color: #00af00; text-decoration-color: #00af00\">2,144</span> │ Concatenate[<span style=\"color: #00af00; text-decoration-color: #00af00\">0</span>][<span style=\"color: #00af00; text-decoration-color: #00af00\">0</span>] │\n",
       "├─────────────────────┼───────────────────┼────────────┼───────────────────┤\n",
       "│ Dense2 (<span style=\"color: #0087ff; text-decoration-color: #0087ff\">Dense</span>)      │ (<span style=\"color: #00d7ff; text-decoration-color: #00d7ff\">None</span>, <span style=\"color: #00af00; text-decoration-color: #00af00\">16</span>)        │        <span style=\"color: #00af00; text-decoration-color: #00af00\">528</span> │ Dense1[<span style=\"color: #00af00; text-decoration-color: #00af00\">0</span>][<span style=\"color: #00af00; text-decoration-color: #00af00\">0</span>]      │\n",
       "├─────────────────────┼───────────────────┼────────────┼───────────────────┤\n",
       "│ SeInput             │ (<span style=\"color: #00d7ff; text-decoration-color: #00d7ff\">None</span>, <span style=\"color: #00d7ff; text-decoration-color: #00d7ff\">None</span>, <span style=\"color: #00af00; text-decoration-color: #00af00\">3</span>)   │          <span style=\"color: #00af00; text-decoration-color: #00af00\">0</span> │ -                 │\n",
       "│ (<span style=\"color: #0087ff; text-decoration-color: #0087ff\">InputLayer</span>)        │                   │            │                   │\n",
       "├─────────────────────┼───────────────────┼────────────┼───────────────────┤\n",
       "│ StatInput           │ (<span style=\"color: #00d7ff; text-decoration-color: #00d7ff\">None</span>, <span style=\"color: #00af00; text-decoration-color: #00af00\">3</span>)         │          <span style=\"color: #00af00; text-decoration-color: #00af00\">0</span> │ -                 │\n",
       "│ (<span style=\"color: #0087ff; text-decoration-color: #0087ff\">InputLayer</span>)        │                   │            │                   │\n",
       "├─────────────────────┼───────────────────┼────────────┼───────────────────┤\n",
       "│ SurvivalOutput      │ (<span style=\"color: #00d7ff; text-decoration-color: #00d7ff\">None</span>, <span style=\"color: #00af00; text-decoration-color: #00af00\">1</span>)         │         <span style=\"color: #00af00; text-decoration-color: #00af00\">17</span> │ Dense2[<span style=\"color: #00af00; text-decoration-color: #00af00\">0</span>][<span style=\"color: #00af00; text-decoration-color: #00af00\">0</span>]      │\n",
       "│ (<span style=\"color: #0087ff; text-decoration-color: #0087ff\">Dense</span>)             │                   │            │                   │\n",
       "└─────────────────────┴───────────────────┴────────────┴───────────────────┘\n",
       "</pre>\n"
      ]
     },
     "metadata": {},
     "output_type": "display_data"
    },
    {
     "data": {
      "text/plain": [
       "\u001B[1m Total params: \u001B[0m\u001B[38;5;34m20,097\u001B[0m (78.50 KB)\n"
      ],
      "text/html": [
       "<pre style=\"white-space:pre;overflow-x:auto;line-height:normal;font-family:Menlo,'DejaVu Sans Mono',consolas,'Courier New',monospace\"><span style=\"font-weight: bold\"> Total params: </span><span style=\"color: #00af00; text-decoration-color: #00af00\">20,097</span> (78.50 KB)\n",
       "</pre>\n"
      ]
     },
     "metadata": {},
     "output_type": "display_data"
    },
    {
     "data": {
      "text/plain": [
       "\u001B[1m Trainable params: \u001B[0m\u001B[38;5;34m20,097\u001B[0m (78.50 KB)\n"
      ],
      "text/html": [
       "<pre style=\"white-space:pre;overflow-x:auto;line-height:normal;font-family:Menlo,'DejaVu Sans Mono',consolas,'Courier New',monospace\"><span style=\"font-weight: bold\"> Trainable params: </span><span style=\"color: #00af00; text-decoration-color: #00af00\">20,097</span> (78.50 KB)\n",
       "</pre>\n"
      ]
     },
     "metadata": {},
     "output_type": "display_data"
    },
    {
     "data": {
      "text/plain": [
       "\u001B[1m Non-trainable params: \u001B[0m\u001B[38;5;34m0\u001B[0m (0.00 B)\n"
      ],
      "text/html": [
       "<pre style=\"white-space:pre;overflow-x:auto;line-height:normal;font-family:Menlo,'DejaVu Sans Mono',consolas,'Courier New',monospace\"><span style=\"font-weight: bold\"> Non-trainable params: </span><span style=\"color: #00af00; text-decoration-color: #00af00\">0</span> (0.00 B)\n",
       "</pre>\n"
      ]
     },
     "metadata": {},
     "output_type": "display_data"
    }
   ],
   "execution_count": 61
  },
  {
   "metadata": {},
   "cell_type": "markdown",
   "source": [
    "Step 3: Train the Model\n",
    "Prepare the Data:\n",
    "Sequential Input: Already padded during preprocessing.\n",
    "Static Input: Converted to a NumPy array.\n",
    "Labels: Use the death column as the target variable"
   ],
   "id": "df0ded7478fdbd54"
  },
  {
   "metadata": {
    "ExecuteTime": {
     "end_time": "2024-11-26T22:46:29.681061Z",
     "start_time": "2024-11-26T22:46:28.134430Z"
    }
   },
   "cell_type": "code",
   "source": [
    "!pip install lifelines\n",
    "from lifelines import KaplanMeierFitter\n",
    "import matplotlib.pyplot as plt\n",
    "\n",
    "# Kaplan-Meier curve for actual survival\n",
    "kmf_actual = KaplanMeierFitter()\n",
    "kmf_actual.fit(test_labels[:, 0], event_observed=test_labels[:, 1], label='Actual Survival')\n",
    "\n",
    "# Plot actual Kaplan-Meier survival curve\n",
    "plt.figure(figsize=(10, 6))\n",
    "kmf_actual.plot_survival_function(ci_show=True)\n",
    "plt.title('Kaplan-Meier Survival Curve (Actual)')\n",
    "plt.xlabel('Time')\n",
    "plt.ylabel('Survival Probability')\n",
    "plt.grid(True)\n"
   ],
   "id": "d9446411b722748e",
   "outputs": [
    {
     "name": "stdout",
     "output_type": "stream",
     "text": [
      "Requirement already satisfied: lifelines in /Users/esiboamah/miniconda3/lib/python3.12/site-packages (0.30.0)\r\n",
      "Requirement already satisfied: numpy>=1.14.0 in /Users/esiboamah/miniconda3/lib/python3.12/site-packages (from lifelines) (1.26.4)\r\n",
      "Requirement already satisfied: scipy>=1.7.0 in /Users/esiboamah/miniconda3/lib/python3.12/site-packages (from lifelines) (1.14.1)\r\n",
      "Requirement already satisfied: pandas>=2.1 in /Users/esiboamah/miniconda3/lib/python3.12/site-packages (from lifelines) (2.2.2)\r\n",
      "Requirement already satisfied: matplotlib>=3.0 in /Users/esiboamah/miniconda3/lib/python3.12/site-packages (from lifelines) (3.9.2)\r\n",
      "Requirement already satisfied: autograd>=1.5 in /Users/esiboamah/miniconda3/lib/python3.12/site-packages (from lifelines) (1.7.0)\r\n",
      "Requirement already satisfied: autograd-gamma>=0.3 in /Users/esiboamah/miniconda3/lib/python3.12/site-packages (from lifelines) (0.5.0)\r\n",
      "Requirement already satisfied: formulaic>=0.2.2 in /Users/esiboamah/miniconda3/lib/python3.12/site-packages (from lifelines) (1.0.2)\r\n",
      "Requirement already satisfied: interface-meta>=1.2.0 in /Users/esiboamah/miniconda3/lib/python3.12/site-packages (from formulaic>=0.2.2->lifelines) (1.3.0)\r\n",
      "Requirement already satisfied: typing-extensions>=4.2.0 in /Users/esiboamah/miniconda3/lib/python3.12/site-packages (from formulaic>=0.2.2->lifelines) (4.11.0)\r\n",
      "Requirement already satisfied: wrapt>=1.0 in /Users/esiboamah/miniconda3/lib/python3.12/site-packages (from formulaic>=0.2.2->lifelines) (1.17.0)\r\n",
      "Requirement already satisfied: contourpy>=1.0.1 in /Users/esiboamah/miniconda3/lib/python3.12/site-packages (from matplotlib>=3.0->lifelines) (1.3.1)\r\n",
      "Requirement already satisfied: cycler>=0.10 in /Users/esiboamah/miniconda3/lib/python3.12/site-packages (from matplotlib>=3.0->lifelines) (0.12.1)\r\n",
      "Requirement already satisfied: fonttools>=4.22.0 in /Users/esiboamah/miniconda3/lib/python3.12/site-packages (from matplotlib>=3.0->lifelines) (4.55.0)\r\n",
      "Requirement already satisfied: kiwisolver>=1.3.1 in /Users/esiboamah/miniconda3/lib/python3.12/site-packages (from matplotlib>=3.0->lifelines) (1.4.7)\r\n",
      "Requirement already satisfied: packaging>=20.0 in /Users/esiboamah/miniconda3/lib/python3.12/site-packages (from matplotlib>=3.0->lifelines) (23.1)\r\n",
      "Requirement already satisfied: pillow>=8 in /Users/esiboamah/miniconda3/lib/python3.12/site-packages (from matplotlib>=3.0->lifelines) (11.0.0)\r\n",
      "Requirement already satisfied: pyparsing>=2.3.1 in /Users/esiboamah/miniconda3/lib/python3.12/site-packages (from matplotlib>=3.0->lifelines) (3.2.0)\r\n",
      "Requirement already satisfied: python-dateutil>=2.7 in /Users/esiboamah/miniconda3/lib/python3.12/site-packages (from matplotlib>=3.0->lifelines) (2.9.0.post0)\r\n",
      "Requirement already satisfied: pytz>=2020.1 in /Users/esiboamah/miniconda3/lib/python3.12/site-packages (from pandas>=2.1->lifelines) (2024.1)\r\n",
      "Requirement already satisfied: tzdata>=2022.7 in /Users/esiboamah/miniconda3/lib/python3.12/site-packages (from pandas>=2.1->lifelines) (2023.3)\r\n",
      "Requirement already satisfied: six>=1.5 in /Users/esiboamah/miniconda3/lib/python3.12/site-packages (from python-dateutil>=2.7->matplotlib>=3.0->lifelines) (1.16.0)\r\n"
     ]
    },
    {
     "data": {
      "text/plain": [
       "<Figure size 1000x600 with 1 Axes>"
      ],
      "image/png": "[encoded data removed]"
     },
     "metadata": {},
     "output_type": "display_data"
    }
   ],
   "execution_count": 75
  },
  {
   "metadata": {},
   "cell_type": "markdown",
   "source": [
    "Step 4: Evaluate the Model\n",
    "After training, evaluate the model's performance using the validation set or new data."
   ],
   "id": "e37a7d523fbad292"
  },
  {
   "metadata": {},
   "cell_type": "markdown",
   "source": "",
   "id": "f71399bfc6d6ac09"
  },
  {
   "metadata": {},
   "cell_type": "markdown",
   "source": "\n",
   "id": "dc43d4dbefc79bea"
  }
 ],
 "metadata": {
  "kernelspec": {
   "display_name": "Python 3",
   "language": "python",
   "name": "python3"
  },
  "language_info": {
   "codemirror_mode": {
    "name": "ipython",
    "version": 2
   },
   "file_extension": ".py",
   "mimetype": "text/x-python",
   "name": "python",
   "nbconvert_exporter": "python",
   "pygments_lexer": "ipython2",
   "version": "2.7.6"
  }
 },
 "nbformat": 4,
 "nbformat_minor": 5
}
